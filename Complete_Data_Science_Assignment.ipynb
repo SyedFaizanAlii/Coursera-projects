{
 "cells": [
  {
   "cell_type": "markdown",
   "id": "82307485",
   "metadata": {},
   "source": [
    "## Exercise 2 - Create a markdown cell with the title of the notebook"
   ]
  },
  {
   "cell_type": "markdown",
   "id": "9ba38a28",
   "metadata": {},
   "source": [
    "# Data Science Tools and Ecosystem"
   ]
  },
  {
   "cell_type": "markdown",
   "id": "5ba42b78",
   "metadata": {},
   "source": [
    "## Exercise 3 - Introduction"
   ]
  },
  {
   "cell_type": "markdown",
   "id": "af28b424",
   "metadata": {},
   "source": [
    "In this notebook, we will explore some of the most commonly used tools, languages, and libraries in the field of Data Science. We will also demonstrate basic arithmetic operations using Python code."
   ]
  },
  {
   "cell_type": "markdown",
   "id": "83f2ec59",
   "metadata": {},
   "source": [
    "## Exercise 4 - List of Data Science Languages"
   ]
  },
  {
   "cell_type": "markdown",
   "id": "3a2edee0",
   "metadata": {},
   "source": [
    "**Some of the popular languages that Data Scientists use are:**\n",
    "\n",
    "1. Python  \n",
    "2. R  \n",
    "3. SQL  \n",
    "4. Julia  \n",
    "5. Scala"
   ]
  },
  {
   "cell_type": "markdown",
   "id": "f0ba135c",
   "metadata": {},
   "source": [
    "## Exercise 5 - List of Data Science Libraries"
   ]
  },
  {
   "cell_type": "markdown",
   "id": "544f15ff",
   "metadata": {},
   "source": [
    "**Some of the commonly used libraries in Data Science are:**\n",
    "\n",
    "- Pandas  \n",
    "- NumPy  \n",
    "- Scikit-learn  \n",
    "- TensorFlow  \n",
    "- Matplotlib"
   ]
  },
  {
   "cell_type": "markdown",
   "id": "3f22983d",
   "metadata": {},
   "source": [
    "## Exercise 6 - Table of Data Science Tools"
   ]
  },
  {
   "cell_type": "markdown",
   "id": "624f7b9b",
   "metadata": {},
   "source": [
    "| Data Science Tools |\n",
    "|--------------------|\n",
    "| Jupyter Notebook   |\n",
    "| RStudio            |\n",
    "| Apache Zeppelin    |"
   ]
  },
  {
   "cell_type": "markdown",
   "id": "c53c9004",
   "metadata": {},
   "source": [
    "## Exercise 7 - Introducing Arithmetic Expression Examples"
   ]
  },
  {
   "cell_type": "markdown",
   "id": "a8a0459e",
   "metadata": {},
   "source": [
    "Below are some examples of evaluating arithmetic expressions in Python."
   ]
  },
  {
   "cell_type": "markdown",
   "id": "cbfe3b27",
   "metadata": {},
   "source": [
    "## Exercise 8 - Arithmetic Expression to Multiply and Add Numbers"
   ]
  },
  {
   "cell_type": "code",
   "execution_count": null,
   "id": "09801eaf",
   "metadata": {},
   "outputs": [],
   "source": [
    "# This expression multiplies 3 and 4, then adds 5 to the result\n",
    "(3 * 4) + 5"
   ]
  },
  {
   "cell_type": "markdown",
   "id": "ea1d0478",
   "metadata": {},
   "source": [
    "## Exercise 9 - Convert Minutes to Hours"
   ]
  },
  {
   "cell_type": "code",
   "execution_count": null,
   "id": "9e6798a6",
   "metadata": {},
   "outputs": [],
   "source": [
    "# This converts 200 minutes to hours by dividing by 60\n",
    "200 / 60"
   ]
  },
  {
   "cell_type": "markdown",
   "id": "75a2a8d1",
   "metadata": {},
   "source": [
    "## Exercise 10 - Objectives"
   ]
  },
  {
   "cell_type": "markdown",
   "id": "23fc4928",
   "metadata": {},
   "source": [
    "**Objectives:**\n",
    "\n",
    "- List popular languages used in Data Science  \n",
    "- List commonly used libraries  \n",
    "- Create tables using markdown  \n",
    "- Perform arithmetic operations  \n",
    "- Share the notebook via GitHub"
   ]
  },
  {
   "cell_type": "markdown",
   "id": "f75a7ec3",
   "metadata": {},
   "source": [
    "## Exercise 11 - Author's Name"
   ]
  },
  {
   "cell_type": "markdown",
   "id": "0c3025b0",
   "metadata": {},
   "source": [
    "**Author:** Syed Faizan Ali"
   ]
  },
  {
   "cell_type": "markdown",
   "id": "f9eb631d",
   "metadata": {},
   "source": [
    "## Exercise 12 - Share your notebook through GitHub"
   ]
  },
  {
   "cell_type": "markdown",
   "id": "dd57b277",
   "metadata": {},
   "source": [
    "You will need to upload this notebook to your public GitHub repository and submit the link."
   ]
  },
  {
   "cell_type": "markdown",
   "id": "fe661026",
   "metadata": {},
   "source": [
    "## Exercise 13 - Screenshot"
   ]
  },
  {
   "cell_type": "markdown",
   "id": "797cbd3c",
   "metadata": {},
   "source": [
    "Take a screenshot of the first page of the notebook and upload it as required."
   ]
  }
 ],
 "metadata": {},
 "nbformat": 4,
 "nbformat_minor": 5
}