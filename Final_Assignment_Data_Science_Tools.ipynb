{
 "cells": [
  {
   "cell_type": "markdown",
   "id": "3b7b53d6",
   "metadata": {},
   "source": [
    "# Data Science Tools and Ecosystem"
   ]
  },
  {
   "cell_type": "markdown",
   "id": "64396751",
   "metadata": {},
   "source": [
    "This notebook contains a summary of the key tools, libraries, and languages used in the field of Data Science. It also includes simple arithmetic operations in Python."
   ]
  },
  {
   "cell_type": "markdown",
   "id": "aa7b9496",
   "metadata": {},
   "source": [
    "**Some of the popular languages that Data Scientists use are:**\n",
    "\n",
    "1. Python  \n",
    "2. R  \n",
    "3. SQL  \n",
    "4. Julia  \n",
    "5. Scala"
   ]
  },
  {
   "cell_type": "markdown",
   "id": "9aba6ba4",
   "metadata": {},
   "source": [
    "**Some of the commonly used libraries in Data Science are:**\n",
    "\n",
    "- Pandas  \n",
    "- NumPy  \n",
    "- Scikit-learn  \n",
    "- TensorFlow  \n",
    "- Matplotlib"
   ]
  },
  {
   "cell_type": "markdown",
   "id": "5d54ca8a",
   "metadata": {},
   "source": [
    "| Data Science Tools |\n",
    "|--------------------|\n",
    "| Jupyter Notebook   |\n",
    "| RStudio            |\n",
    "| Apache Zeppelin    |"
   ]
  },
  {
   "cell_type": "markdown",
   "id": "ba06bf5f",
   "metadata": {},
   "source": [
    "### Below are some examples of evaluating arithmetic expressions in Python."
   ]
  },
  {
   "cell_type": "code",
   "execution_count": null,
   "id": "63a7d592",
   "metadata": {},
   "outputs": [],
   "source": [
    "(3 * 4) + 5"
   ]
  },
  {
   "cell_type": "code",
   "execution_count": null,
   "id": "aa66180b",
   "metadata": {},
   "outputs": [],
   "source": [
    "200 / 60"
   ]
  },
  {
   "cell_type": "markdown",
   "id": "5f0890bc",
   "metadata": {},
   "source": [
    "**Objectives:**\n",
    "\n",
    "- List popular languages used in Data Science  \n",
    "- List commonly used libraries in Data Science  \n",
    "- Create a table of Data Science tools  \n",
    "- Demonstrate arithmetic expressions in Python  \n",
    "- Share the notebook via GitHub"
   ]
  },
  {
   "cell_type": "markdown",
   "id": "a8dd9077",
   "metadata": {},
   "source": [
    "**Author:** Syed Faizan Ali"
   ]
  }
 ],
 "metadata": {},
 "nbformat": 4,
 "nbformat_minor": 5
}